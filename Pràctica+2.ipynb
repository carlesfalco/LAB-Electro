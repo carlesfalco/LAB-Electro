{
 "cells": [
  {
   "cell_type": "code",
   "execution_count": 1,
   "metadata": {
    "collapsed": true
   },
   "outputs": [],
   "source": [
    "import numpy as np\n",
    "import matplotlib.pyplot as plt\n",
    "from scipy.stats import linregress\n",
    "pi=np.pi\n",
    "sqrt=np.sqrt"
   ]
  },
  {
   "cell_type": "markdown",
   "metadata": {},
   "source": [
    "#### Valors de les diferents masses (g), longitud fil conductor (m), muo (SI), distància r (m)"
   ]
  },
  {
   "cell_type": "code",
   "execution_count": 37,
   "metadata": {},
   "outputs": [],
   "source": [
    "m1=5*1e-6\n",
    "m2=10*1e-6\n",
    "m3=15*1e-6\n",
    "m4=20*1e-6\n",
    "m5=25*1e-6\n",
    "#\n",
    "L=0.4\n",
    "uL=0\n",
    "#\n",
    "muo=4*pi*1e-7\n",
    "#\n",
    "r=8.1/1000\n",
    "ur=0\n",
    "#Valor de g\n",
    "g=9.8\n",
    "#Incertesa experimental intensitat\n",
    "uiexp=0\n",
    "#Llista buida pels valors I^2 i les corresponents incerteses. Igual per la forca\n",
    "I=[]\n",
    "uI=[]\n",
    "F=[]"
   ]
  },
  {
   "cell_type": "markdown",
   "metadata": {},
   "source": [
    "# Força vs Corrent\n",
    "### Mesures m1"
   ]
  },
  {
   "cell_type": "code",
   "execution_count": 38,
   "metadata": {},
   "outputs": [
    {
     "data": {
      "text/plain": [
       "2.2273863607376243"
      ]
     },
     "execution_count": 38,
     "metadata": {},
     "output_type": "execute_result"
    }
   ],
   "source": [
    "#El valor de la intensitat serà més o menys\n",
    "i1=sqrt(2*pi*r*m1*g/muo/L)\n",
    "i1"
   ]
  },
  {
   "cell_type": "code",
   "execution_count": 39,
   "metadata": {},
   "outputs": [],
   "source": [
    "#Conjunt d'intensitats mesurades\n",
    "i1exp=[70,71]\n",
    "I1=np.mean(i1exp)"
   ]
  },
  {
   "cell_type": "code",
   "execution_count": 40,
   "metadata": {},
   "outputs": [],
   "source": [
    "#Incertesa intensitat\n",
    "uI1=sqrt(uiexp**2+(np.std(i1exp,ddof=1)/sqrt(len(i1exp)))**2)\n"
   ]
  },
  {
   "cell_type": "code",
   "execution_count": 41,
   "metadata": {},
   "outputs": [],
   "source": [
    "#Afegim valors a la llista\n",
    "I.append(I1)\n",
    "uI.append(uI1)\n",
    "F.append(m1*g)"
   ]
  },
  {
   "cell_type": "markdown",
   "metadata": {},
   "source": [
    "### Mesures m2"
   ]
  },
  {
   "cell_type": "code",
   "execution_count": 42,
   "metadata": {},
   "outputs": [
    {
     "data": {
      "text/plain": [
       "3.1499999999999995"
      ]
     },
     "execution_count": 42,
     "metadata": {},
     "output_type": "execute_result"
    }
   ],
   "source": [
    "#El valor de la intensitat serà més o menys\n",
    "i2=sqrt(2*pi*r*m2*g/muo/L)\n",
    "i2"
   ]
  },
  {
   "cell_type": "code",
   "execution_count": 43,
   "metadata": {},
   "outputs": [],
   "source": [
    "#Conjunt d'intensitats mesurades\n",
    "i2exp=[99,100]\n",
    "I2=np.mean(i2exp)"
   ]
  },
  {
   "cell_type": "code",
   "execution_count": 44,
   "metadata": {},
   "outputs": [],
   "source": [
    "#Incertesa intensitat\n",
    "uI2=sqrt(uiexp**2+(np.std(i2exp,ddof=1)/sqrt(len(i2exp)))**2)"
   ]
  },
  {
   "cell_type": "code",
   "execution_count": 45,
   "metadata": {
    "collapsed": true
   },
   "outputs": [],
   "source": [
    "#Afegim valors a la llista\n",
    "I.append(I2)\n",
    "uI.append(uI2)\n",
    "F.append(m2*g)"
   ]
  },
  {
   "cell_type": "markdown",
   "metadata": {},
   "source": [
    "### Mesures m3"
   ]
  },
  {
   "cell_type": "code",
   "execution_count": 46,
   "metadata": {},
   "outputs": [
    {
     "data": {
      "text/plain": [
       "3.857946344883505"
      ]
     },
     "execution_count": 46,
     "metadata": {},
     "output_type": "execute_result"
    }
   ],
   "source": [
    "#El valor de la intensitat serà més o menys\n",
    "i3=sqrt(2*pi*r*m3*g/muo/L)\n",
    "i3"
   ]
  },
  {
   "cell_type": "code",
   "execution_count": 47,
   "metadata": {},
   "outputs": [],
   "source": [
    "#Conjunt d'intensitats mesurades\n",
    "i3exp=[120,121]\n",
    "I3=np.mean(i3exp)"
   ]
  },
  {
   "cell_type": "code",
   "execution_count": 48,
   "metadata": {
    "collapsed": true
   },
   "outputs": [],
   "source": [
    "#Incertesa intensitat\n",
    "uI3=sqrt(uiexp**2+(np.std(i3exp,ddof=1)/sqrt(len(i3exp)))**2)"
   ]
  },
  {
   "cell_type": "code",
   "execution_count": 49,
   "metadata": {
    "collapsed": true
   },
   "outputs": [],
   "source": [
    "#Afegim valors a la llista\n",
    "I.append(I3)\n",
    "uI.append(uI3)\n",
    "F.append(m3*g)"
   ]
  },
  {
   "cell_type": "markdown",
   "metadata": {},
   "source": [
    "### Mesures m4"
   ]
  },
  {
   "cell_type": "code",
   "execution_count": 50,
   "metadata": {},
   "outputs": [
    {
     "data": {
      "text/plain": [
       "4.4547727214752486"
      ]
     },
     "execution_count": 50,
     "metadata": {},
     "output_type": "execute_result"
    }
   ],
   "source": [
    "#El valor de la intensitat serà més o menys\n",
    "i4=sqrt(2*pi*r*m4*g/muo/L)\n",
    "i4"
   ]
  },
  {
   "cell_type": "code",
   "execution_count": 51,
   "metadata": {},
   "outputs": [],
   "source": [
    "#Conjunt d'intensitats mesurades\n",
    "i4exp=[140,141]\n",
    "I4=np.mean(i4exp)"
   ]
  },
  {
   "cell_type": "code",
   "execution_count": 52,
   "metadata": {},
   "outputs": [],
   "source": [
    "#Incertesa intensitat\n",
    "uI4=sqrt(uiexp**2+(np.std(i4exp,ddof=1)/sqrt(len(i4exp)))**2)"
   ]
  },
  {
   "cell_type": "code",
   "execution_count": 53,
   "metadata": {
    "collapsed": true
   },
   "outputs": [],
   "source": [
    "#Afegim valors a la llista\n",
    "I.append(I4)\n",
    "uI.append(uI4)\n",
    "F.append(m4*g)"
   ]
  },
  {
   "cell_type": "markdown",
   "metadata": {},
   "source": [
    "### Mesures m5"
   ]
  },
  {
   "cell_type": "code",
   "execution_count": 54,
   "metadata": {},
   "outputs": [
    {
     "data": {
      "text/plain": [
       "4.9805873147651969"
      ]
     },
     "execution_count": 54,
     "metadata": {},
     "output_type": "execute_result"
    }
   ],
   "source": [
    "#El valor de la intensitat serà més o menys\n",
    "i5=sqrt(2*pi*r*m5*g/muo/L)\n",
    "i5"
   ]
  },
  {
   "cell_type": "code",
   "execution_count": 55,
   "metadata": {
    "collapsed": true
   },
   "outputs": [],
   "source": [
    "# Conjunt d'intensitats mesurades\n",
    "i5exp=[157,158]\n",
    "I5=np.mean(i5exp)"
   ]
  },
  {
   "cell_type": "code",
   "execution_count": 56,
   "metadata": {
    "collapsed": true
   },
   "outputs": [],
   "source": [
    "#Incertesa intensitat\n",
    "uI5=sqrt(uiexp**2+(np.std(i5exp,ddof=1)/sqrt(len(i5exp)))**2)"
   ]
  },
  {
   "cell_type": "code",
   "execution_count": 57,
   "metadata": {},
   "outputs": [],
   "source": [
    "#Afegim valors a la llista\n",
    "I.append(I5)\n",
    "uI.append(uI5)\n",
    "F.append(m5*g)"
   ]
  },
  {
   "cell_type": "code",
   "execution_count": null,
   "metadata": {
    "collapsed": true
   },
   "outputs": [],
   "source": []
  },
  {
   "cell_type": "markdown",
   "metadata": {},
   "source": [
    "### Regressió lineal"
   ]
  },
  {
   "cell_type": "code",
   "execution_count": 58,
   "metadata": {},
   "outputs": [
    {
     "data": {
      "text/plain": [
       "5"
      ]
     },
     "execution_count": 58,
     "metadata": {},
     "output_type": "execute_result"
    }
   ],
   "source": [
    "#Guardem els valors de I^2\n",
    "I_2=[]\n",
    "for k in I:\n",
    "    I_2.append(k**2)\n",
    "uI_2=[]\n",
    "for j in range(0,len(uI)):\n",
    "    uI_2.append(2*I[j]*uI[j])\n",
    "len(F)"
   ]
  },
  {
   "cell_type": "code",
   "execution_count": 59,
   "metadata": {},
   "outputs": [
    {
     "data": {
      "text/plain": [
       "LinregressResult(slope=9.8927044712612852e-09, intercept=7.1212726644728839e-07, rvalue=0.99980363764039015, pvalue=3.3029988953285538e-06, stderr=1.1320418792721505e-10)"
      ]
     },
     "execution_count": 59,
     "metadata": {},
     "output_type": "execute_result"
    }
   ],
   "source": [
    "#Eix x,I^2 Eix y, F, o bé al revés\n",
    "linregress(I_2,F)"
   ]
  },
  {
   "cell_type": "code",
   "execution_count": 60,
   "metadata": {},
   "outputs": [],
   "source": [
    "#y=a1x+b1\n",
    "a1=linregress(I_2,F)[0]\n",
    "ua1=0\n",
    "b1=linregress(I_2,F)[1]\n",
    "r12=linregress(I_2,F)[2]\n",
    "#Falten incerteses paràmetres. Fer en casa..."
   ]
  },
  {
   "cell_type": "code",
   "execution_count": 61,
   "metadata": {},
   "outputs": [
    {
     "data": {
      "text/plain": [
       "1.2586933314874987e-09"
      ]
     },
     "execution_count": 61,
     "metadata": {},
     "output_type": "execute_result"
    }
   ],
   "source": [
    "#Permeabilitat magnètica\n",
    "muoexp=2*pi*r*a1/L\n",
    "umuo=muoexp*sqrt((ur/r)**2+(uL/L)**2+(ua1/a1)**2)\n",
    "muoexp"
   ]
  },
  {
   "cell_type": "code",
   "execution_count": 62,
   "metadata": {},
   "outputs": [
    {
     "data": {
      "text/plain": [
       "99.899836367228488"
      ]
     },
     "execution_count": 62,
     "metadata": {},
     "output_type": "execute_result"
    }
   ],
   "source": [
    "#Comparació\n",
    "abs(muo-muoexp)*100/muo"
   ]
  },
  {
   "cell_type": "code",
   "execution_count": 63,
   "metadata": {},
   "outputs": [
    {
     "data": {
      "image/png": "[encoded data removed]",
      "text/plain": [
       "<matplotlib.figure.Figure at 0x25add6b6438>"
      ]
     },
     "metadata": {},
     "output_type": "display_data"
    }
   ],
   "source": [
    "#Primer plot\n",
    "i_2=np.array(I_2)\n",
    "f=np.array(F)\n",
    "\n",
    "plt.scatter(i_2,f,marker=',',label='Dades experimentals')\n",
    "plt.plot(i_2,a1*i_2+b1,linewidth=1,label='Ajust Lineal')\n",
    "plt.xlabel('I^2 (A^2)')\n",
    "plt.ylabel('F (N)')\n",
    "plt.legend()\n",
    "\n",
    "plt.show()"
   ]
  },
  {
   "cell_type": "code",
   "execution_count": 64,
   "metadata": {},
   "outputs": [],
   "source": [
    "#Generem fitxer pel gnuplot\n",
    "#Matriu amb fila i I^2[i] F[i] u(I^2)[i]\n",
    "M=[]\n",
    "for i in range(0,4):\n",
    "    M.append([I_2[i],F[i],uI_2[i]])\n",
    "#Guardem en txt\n",
    "np.savetxt('filscorrent',M)"
   ]
  },
  {
   "cell_type": "code",
   "execution_count": null,
   "metadata": {},
   "outputs": [],
   "source": []
  },
  {
   "cell_type": "markdown",
   "metadata": {},
   "source": [
    "# Força vs separació"
   ]
  },
  {
   "cell_type": "code",
   "execution_count": 70,
   "metadata": {},
   "outputs": [],
   "source": [
    "#Tenim les mateixes masses\n",
    "uangle=0\n",
    "angles=[]"
   ]
  },
  {
   "cell_type": "code",
   "execution_count": 72,
   "metadata": {},
   "outputs": [],
   "source": [
    "#angles=[angle5,angle10,angle15,angle20,angle25]"
   ]
  },
  {
   "cell_type": "code",
   "execution_count": 73,
   "metadata": {
    "collapsed": true
   },
   "outputs": [],
   "source": [
    "linregress(angles,F)#Falten incerteses!"
   ]
  },
  {
   "cell_type": "code",
   "execution_count": 74,
   "metadata": {
    "collapsed": true
   },
   "outputs": [],
   "source": [
    "#Regressió\n",
    "a2=linregress(angles,F)[0]\n",
    "b2=linregress(angles,F)[1]\n",
    "r22=(linregress(angles,F)[2])**2"
   ]
  },
  {
   "cell_type": "code",
   "execution_count": 75,
   "metadata": {
    "collapsed": true
   },
   "outputs": [],
   "source": [
    "#Ara tenim\n",
    "k=a2\n",
    "uk=0 #Fer a casa"
   ]
  },
  {
   "cell_type": "code",
   "execution_count": 76,
   "metadata": {
    "collapsed": true
   },
   "outputs": [],
   "source": [
    "#Representant...\n",
    "ang=np.array(angles)\n",
    "\n",
    "plt.scatter(ang,f,marker=',',label='Dades experimentals')\n",
    "plt.plot(ang,a2*ang+b2,linewidth=1,label='Ajust Lineal')\n",
    "plt.xlabel('Angles º')\n",
    "plt.ylabel('Força (N)')\n",
    "plt.legend()\n",
    "\n",
    "plt.show()"
   ]
  },
  {
   "cell_type": "code",
   "execution_count": 77,
   "metadata": {
    "collapsed": true
   },
   "outputs": [],
   "source": [
    "#Fixat corrent\n",
    "ic=5\n",
    "uic=0"
   ]
  },
  {
   "cell_type": "code",
   "execution_count": 86,
   "metadata": {},
   "outputs": [],
   "source": [
    "distancies=[10/1000,4/1000]\n",
    "#La incertesa és ur, ja fixada\n",
    "invdist=[]\n",
    "for k in distancies:\n",
    "    invdist.append(1/k)\n",
    "\n",
    "uinvr=[]\n",
    "for j in distancies:\n",
    "    uinvr.append(ur/j**2)"
   ]
  },
  {
   "cell_type": "code",
   "execution_count": 87,
   "metadata": {},
   "outputs": [],
   "source": [
    "def force(K,theta):\n",
    "    return K*theta\n",
    "#s'hauria de retornar a2*theta+b2???"
   ]
  },
  {
   "cell_type": "code",
   "execution_count": 88,
   "metadata": {
    "collapsed": true
   },
   "outputs": [],
   "source": [
    "#expangles=[angles corresponents a les distàncies de dalt]\n",
    "expangles=[]"
   ]
  },
  {
   "cell_type": "code",
   "execution_count": 89,
   "metadata": {},
   "outputs": [],
   "source": [
    "#Les forces seran doncs:\n",
    "FF=[]\n",
    "uFF=[]\n",
    "for j in expangles:\n",
    "    FF.append(force(k*j))\n",
    "for k in range(0,len(expangles)):\n",
    "    uFF.append(FF[k]*sqrt((uk/k)**2+(uangle/angles[k])**2))"
   ]
  },
  {
   "cell_type": "code",
   "execution_count": 92,
   "metadata": {},
   "outputs": [],
   "source": [
    "#3a regressió\n",
    "linregress(invdist,FF)"
   ]
  },
  {
   "cell_type": "code",
   "execution_count": null,
   "metadata": {},
   "outputs": [],
   "source": [
    "a3=linregress(invdist,FF)[0]\n",
    "ua3=0\n",
    "b3=linregress(invdist,FF)[1]\n",
    "r32=(linregress(invdist,FF)[2])**2\n",
    "#Novament falten incerteses"
   ]
  },
  {
   "cell_type": "code",
   "execution_count": null,
   "metadata": {
    "collapsed": true
   },
   "outputs": [],
   "source": [
    "#determinació muo\n",
    "muoexp2=2*pi*a3/L/ic**2\n",
    "umuoexp2=muoexp2*sqrt((ua3/a3)**2+(uL/L)**2+(uic*2/ic**2)**2)"
   ]
  },
  {
   "cell_type": "code",
   "execution_count": null,
   "metadata": {
    "collapsed": true
   },
   "outputs": [],
   "source": [
    "#plot\n",
    "invd=np.array(invdist)\n",
    "ff=np.array(FF)\n",
    "\n",
    "plt.scatter(invd,ff,marker=',',label='Dades experimentals')\n",
    "plt.plot(invd,a3*ff+b3,linewidth=1,label='Ajust Lineal')\n",
    "plt.xlabel('1/r (1/m)')\n",
    "plt.ylabel('Força (N)')\n",
    "plt.legend()\n",
    "\n",
    "plt.show()"
   ]
  },
  {
   "cell_type": "code",
   "execution_count": null,
   "metadata": {
    "collapsed": true
   },
   "outputs": [],
   "source": [
    "#generant txt pel gnuplot\n",
    "\n",
    "#constant de torsió\n",
    "m1=[]\n",
    "for j in range(0,4):\n",
    "    m1.append([angles[j],F[j],uangle])\n",
    "\n",
    "#muo2\n",
    "m2=[]\n",
    "for k in range(0,len(invdist)):\n",
    "    m2.append([invdist[k],FF[k],uinvr[k],uFF[k]])\n",
    "\n",
    "np.savetxt('ktorsio',m1)\n",
    "np.savetxt('f(1/r)',m2)"
   ]
  },
  {
   "cell_type": "code",
   "execution_count": null,
   "metadata": {
    "collapsed": true
   },
   "outputs": [],
   "source": []
  },
  {
   "cell_type": "markdown",
   "metadata": {},
   "source": [
    "# Camp magnètic Terra"
   ]
  },
  {
   "cell_type": "code",
   "execution_count": 96,
   "metadata": {
    "collapsed": true
   },
   "outputs": [],
   "source": [
    "intensitat=6\n",
    "longitud=L\n",
    "#F=experimental\n",
    "forceta=0"
   ]
  },
  {
   "cell_type": "code",
   "execution_count": 97,
   "metadata": {},
   "outputs": [
    {
     "data": {
      "text/plain": [
       "0.0"
      ]
     },
     "execution_count": 97,
     "metadata": {},
     "output_type": "execute_result"
    }
   ],
   "source": [
    "Bterra=forceta/longitud/intensitat#fer incerteses...\n",
    "Bterra"
   ]
  },
  {
   "cell_type": "code",
   "execution_count": null,
   "metadata": {
    "collapsed": true
   },
   "outputs": [],
   "source": []
  }
 ],
 "metadata": {
  "kernelspec": {
   "display_name": "Python 3",
   "language": "python",
   "name": "python3"
  },
  "language_info": {
   "codemirror_mode": {
    "name": "ipython",
    "version": 3
   },
   "file_extension": ".py",
   "mimetype": "text/x-python",
   "name": "python",
   "nbconvert_exporter": "python",
   "pygments_lexer": "ipython3",
   "version": "3.6.3"
  }
 },
 "nbformat": 4,
 "nbformat_minor": 2
}
