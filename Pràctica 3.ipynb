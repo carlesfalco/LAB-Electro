{
 "cells": [
  {
   "cell_type": "markdown",
   "metadata": {},
   "source": [
    "# Pràctica 3. Circuits RLC"
   ]
  },
  {
   "cell_type": "code",
   "execution_count": 19,
   "metadata": {
    "collapsed": true
   },
   "outputs": [],
   "source": [
    "import numpy as np\n",
    "import matplotlib.pyplot as plt\n",
    "pi=np.pi\n",
    "sqrt=np.sqrt\n",
    "def erel(vreal,vmesurat):\n",
    "    return print(np.abs(vreal-vmesurat)/vreal*100)"
   ]
  },
  {
   "cell_type": "markdown",
   "metadata": {},
   "source": [
    "### Règim permament: freqüència pròpia i freqüències de tall"
   ]
  },
  {
   "cell_type": "markdown",
   "metadata": {},
   "source": [
    "Dades:"
   ]
  },
  {
   "cell_type": "code",
   "execution_count": 20,
   "metadata": {
    "scrolled": false
   },
   "outputs": [
    {
     "name": "stdout",
     "output_type": "stream",
     "text": [
      "2940771349.862259 Discriminant R1\n",
      "-11970592286.501379 Discriminant R2\n"
     ]
    }
   ],
   "source": [
    "L=22*1e-3\n",
    "uL=0\n",
    "C=15*1e-9\n",
    "uC=0\n",
    "R1=2700\n",
    "uR1=0\n",
    "R2=270\n",
    "uR2=0\n",
    "disc1=R1**2/L**2-4/L/C\n",
    "print(disc1, 'Discriminant R1')\n",
    "disc2=R2**2/L**2-4/L/C\n",
    "print(disc2, 'Discriminant R2')\n",
    "#incertesa oscil·loscopi\n",
    "ufreq=0\n",
    "uten=0"
   ]
  },
  {
   "cell_type": "markdown",
   "metadata": {},
   "source": [
    "##### Per la resistència R1"
   ]
  },
  {
   "cell_type": "code",
   "execution_count": 21,
   "metadata": {},
   "outputs": [
    {
     "data": {
      "text/plain": [
       "8761.1912692462374"
      ]
     },
     "execution_count": 21,
     "metadata": {},
     "output_type": "execute_result"
    }
   ],
   "source": [
    "foteorica=1/2/pi*sqrt(1/L/C)\n",
    "woteorica=2*pi*foteorica\n",
    "foteorica"
   ]
  },
  {
   "cell_type": "code",
   "execution_count": 33,
   "metadata": {},
   "outputs": [
    {
     "data": {
      "text/plain": [
       "0.9901960784313726"
      ]
     },
     "execution_count": 33,
     "metadata": {},
     "output_type": "execute_result"
    }
   ],
   "source": [
    "Fo1=np.array((8700))\n",
    "foexp1=np.mean(Fo1)\n",
    "ufoexp1=100\n",
    "foexp1\n",
    "#El guany\n",
    "vr1=40.4\n",
    "ve1=40.8\n",
    "uv=0.4\n",
    "vr1/ve1"
   ]
  },
  {
   "cell_type": "markdown",
   "metadata": {},
   "source": [
    "L'error relatiu és de:"
   ]
  },
  {
   "cell_type": "code",
   "execution_count": 23,
   "metadata": {},
   "outputs": [
    {
     "name": "stdout",
     "output_type": "stream",
     "text": [
      "0.698435490857\n"
     ]
    }
   ],
   "source": [
    "erel(foteorica,foexp1)"
   ]
  },
  {
   "cell_type": "markdown",
   "metadata": {},
   "source": [
    "Freqüències de tall teòriques:"
   ]
  },
  {
   "cell_type": "code",
   "execution_count": 24,
   "metadata": {},
   "outputs": [
    {
     "name": "stdout",
     "output_type": "stream",
     "text": [
      "22886.5241097 3353.87200295\n"
     ]
    }
   ],
   "source": [
    "w11teorica=R1/2/L+sqrt(R1**2/4/L**2+woteorica**2)\n",
    "w21teorica=-R1/2/L+sqrt(R1**2/4/L**2+woteorica**2)\n",
    "f11teorica=w11teorica/2/pi\n",
    "f21teorica=w21teorica/2/pi\n",
    "print(f11teorica,f21teorica)\n",
    "#Faltaran incerteses en cas que donen..."
   ]
  },
  {
   "cell_type": "markdown",
   "metadata": {},
   "source": [
    "Freqüències de tall:"
   ]
  },
  {
   "cell_type": "code",
   "execution_count": 27,
   "metadata": {},
   "outputs": [
    {
     "name": "stdout",
     "output_type": "stream",
     "text": [
      "1.58816554482\n",
      "5.84780805222\n",
      "23250.0 None 3550.0 None\n"
     ]
    }
   ],
   "source": [
    "\n",
    "F11=np.array((23250))\n",
    "#v11=els mateixos que baix\n",
    "F21=np.array((3550))\n",
    "#v21e=41.2, v21r=28.9 incertesa tensió 0.5V approx\n",
    "uf11=100\n",
    "uf21=100\n",
    "f11=np.mean(F11)\n",
    "f21=np.mean(F21)\n",
    "print(f11,erel(f11teorica,f11),f21,erel(f21teorica,f21))"
   ]
  },
  {
   "cell_type": "markdown",
   "metadata": {},
   "source": [
    "##### Per la resistència R2"
   ]
  },
  {
   "cell_type": "code",
   "execution_count": 64,
   "metadata": {},
   "outputs": [
    {
     "data": {
      "text/plain": [
       "8761.1912692462374"
      ]
     },
     "execution_count": 64,
     "metadata": {},
     "output_type": "execute_result"
    }
   ],
   "source": [
    "foteorica=1/2/pi*sqrt(1/L/C)\n",
    "woteorica=2*pi*foteorica1\n",
    "foteorica"
   ]
  },
  {
   "cell_type": "code",
   "execution_count": 40,
   "metadata": {},
   "outputs": [
    {
     "data": {
      "text/plain": [
       "1.3650793650793651"
      ]
     },
     "execution_count": 40,
     "metadata": {},
     "output_type": "execute_result"
    }
   ],
   "source": [
    "Fo2=np.array((8400))\n",
    "foexp2=np.mean(Fo2)\n",
    "ufoexp2=100\n",
    "foexp2\n",
    "#Pel guany tenim \n",
    "ve2=34.4\n",
    "vr2=25.2\n",
    "utensions=0.4\n",
    "guany=vr2/ve2\n",
    "1/guany"
   ]
  },
  {
   "cell_type": "markdown",
   "metadata": {},
   "source": [
    "L'error relatiu és de:"
   ]
  },
  {
   "cell_type": "code",
   "execution_count": 37,
   "metadata": {},
   "outputs": [
    {
     "name": "stdout",
     "output_type": "stream",
     "text": [
      "4.12262737048\n"
     ]
    }
   ],
   "source": [
    "erel(foteorica,foexp2)"
   ]
  },
  {
   "cell_type": "markdown",
   "metadata": {},
   "source": [
    "Freqüències de tall teòriques:"
   ]
  },
  {
   "cell_type": "code",
   "execution_count": 42,
   "metadata": {},
   "outputs": [
    {
     "name": "stdout",
     "output_type": "stream",
     "text": [
      "9792.08969514 7838.82448446\n"
     ]
    }
   ],
   "source": [
    "w12teorica=R2/2/L+sqrt(R2**2/4/L**2+woteorica**2)\n",
    "w22teorica=-R2/2/L+sqrt(R2**2/4/L**2+woteorica**2)\n",
    "f12teorica=w12teorica/2/pi\n",
    "f22teorica=w22teorica/2/pi\n",
    "print(f12teorica,f22teorica)\n",
    "#Faltaran incerteses en cas que donen..."
   ]
  },
  {
   "cell_type": "markdown",
   "metadata": {},
   "source": [
    "Freqüències de tall:"
   ]
  },
  {
   "cell_type": "code",
   "execution_count": 43,
   "metadata": {},
   "outputs": [
    {
     "name": "stdout",
     "output_type": "stream",
     "text": [
      "16.6674299966\n",
      "10.475748209\n",
      "8160.0 None 8660.0 None\n"
     ]
    }
   ],
   "source": [
    "F12=np.array((8160))\n",
    "F22=np.array((8660))\n",
    "uf12=100\n",
    "uf22=100\n",
    "vres=24.4\n",
    "ven=34.8\n",
    "f12=np.mean(F12)\n",
    "f22=np.mean(F22)\n",
    "print(f12,erel(f12teorica,f12),f22,erel(f22teorica,f22))"
   ]
  },
  {
   "cell_type": "markdown",
   "metadata": {},
   "source": [
    "Per la resistència R2"
   ]
  },
  {
   "cell_type": "markdown",
   "metadata": {},
   "source": [
    "### Règim transitori. Resposta a un senyal rectangular"
   ]
  },
  {
   "cell_type": "markdown",
   "metadata": {},
   "source": [
    "Dades: (en aquesta part L,C i R prenen valors nous, compte!)"
   ]
  },
  {
   "cell_type": "code",
   "execution_count": 44,
   "metadata": {},
   "outputs": [
    {
     "data": {
      "text/plain": [
       "20000.0"
      ]
     },
     "execution_count": 44,
     "metadata": {},
     "output_type": "execute_result"
    }
   ],
   "source": [
    "L=33*1e-3\n",
    "uL=0\n",
    "C=330*1e-12\n",
    "uC=0\n",
    "R1=180\n",
    "uR1=0\n",
    "#Tensió crítica\n",
    "RC=2*sqrt(L/C)\n",
    "RC"
   ]
  },
  {
   "cell_type": "markdown",
   "metadata": {},
   "source": [
    "Pseudo-període teòric"
   ]
  },
  {
   "cell_type": "code",
   "execution_count": 45,
   "metadata": {},
   "outputs": [
    {
     "name": "stdout",
     "output_type": "stream",
     "text": [
      "2.07353513124e-05\n"
     ]
    }
   ],
   "source": [
    "wt1=1/2*sqrt(4/L/C-(R1/L)**2)\n",
    "Tt1=2*pi/wt1\n",
    "print(Tt1)"
   ]
  },
  {
   "cell_type": "code",
   "execution_count": 46,
   "metadata": {},
   "outputs": [
    {
     "data": {
      "text/plain": [
       "4822.6817329141786"
      ]
     },
     "execution_count": 46,
     "metadata": {},
     "output_type": "execute_result"
    }
   ],
   "source": [
    "#La freq del generador serà doncs:\n",
    "fo1=1/10/Tt1\n",
    "fo1"
   ]
  },
  {
   "cell_type": "markdown",
   "metadata": {},
   "source": [
    "Període mesurat"
   ]
  },
  {
   "cell_type": "code",
   "execution_count": 48,
   "metadata": {},
   "outputs": [],
   "source": [
    "t1=np.array((24*1e-6,26*1e-6,24.2*1e-6,))\n",
    "T1=np.mean(t1)\n",
    "uT1=np.std(t1,ddof=1)"
   ]
  },
  {
   "cell_type": "markdown",
   "metadata": {},
   "source": [
    "##### Canvi a potenciòmetre"
   ]
  },
  {
   "cell_type": "code",
   "execution_count": 81,
   "metadata": {},
   "outputs": [
    {
     "data": {
      "text/plain": [
       "0"
      ]
     },
     "execution_count": 81,
     "metadata": {},
     "output_type": "execute_result"
    }
   ],
   "source": [
    "R2=0\n",
    "uR2"
   ]
  },
  {
   "cell_type": "code",
   "execution_count": 49,
   "metadata": {
    "collapsed": true
   },
   "outputs": [],
   "source": [
    "RCEXP=16100\n",
    "uR=100\n",
    "Rsobre=11200\n",
    "Runder=950"
   ]
  },
  {
   "cell_type": "code",
   "execution_count": null,
   "metadata": {
    "collapsed": true
   },
   "outputs": [],
   "source": []
  },
  {
   "cell_type": "code",
   "execution_count": null,
   "metadata": {
    "collapsed": true
   },
   "outputs": [],
   "source": []
  },
  {
   "cell_type": "code",
   "execution_count": null,
   "metadata": {
    "collapsed": true
   },
   "outputs": [],
   "source": []
  },
  {
   "cell_type": "code",
   "execution_count": null,
   "metadata": {
    "collapsed": true
   },
   "outputs": [],
   "source": []
  },
  {
   "cell_type": "code",
   "execution_count": null,
   "metadata": {
    "collapsed": true
   },
   "outputs": [],
   "source": []
  },
  {
   "cell_type": "code",
   "execution_count": null,
   "metadata": {
    "collapsed": true
   },
   "outputs": [],
   "source": []
  },
  {
   "cell_type": "code",
   "execution_count": null,
   "metadata": {
    "collapsed": true
   },
   "outputs": [],
   "source": []
  },
  {
   "cell_type": "code",
   "execution_count": null,
   "metadata": {
    "collapsed": true
   },
   "outputs": [],
   "source": []
  },
  {
   "cell_type": "code",
   "execution_count": null,
   "metadata": {},
   "outputs": [],
   "source": []
  },
  {
   "cell_type": "code",
   "execution_count": null,
   "metadata": {},
   "outputs": [],
   "source": []
  },
  {
   "cell_type": "code",
   "execution_count": null,
   "metadata": {},
   "outputs": [],
   "source": []
  },
  {
   "cell_type": "code",
   "execution_count": null,
   "metadata": {
    "collapsed": true
   },
   "outputs": [],
   "source": []
  }
 ],
 "metadata": {
  "kernelspec": {
   "display_name": "Python 3",
   "language": "python",
   "name": "python3"
  },
  "language_info": {
   "codemirror_mode": {
    "name": "ipython",
    "version": 3
   },
   "file_extension": ".py",
   "mimetype": "text/x-python",
   "name": "python",
   "nbconvert_exporter": "python",
   "pygments_lexer": "ipython3",
   "version": "3.6.3"
  }
 },
 "nbformat": 4,
 "nbformat_minor": 2
}
